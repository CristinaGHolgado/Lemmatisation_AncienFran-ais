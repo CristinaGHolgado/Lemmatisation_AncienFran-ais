{
  "nbformat": 4,
  "nbformat_minor": 0,
  "metadata": {
    "colab": {
      "name": "train_tag_udpipe_old_french.ipynb",
      "provenance": [],
      "toc_visible": true,
      "authorship_tag": "ABX9TyPU5UavXYjm7fzmUWJgOeeh",
      "include_colab_link": true
    },
    "kernelspec": {
      "name": "python3",
      "display_name": "Python 3"
    },
    "language_info": {
      "name": "python"
    }
  },
  "cells": [
    {
      "cell_type": "markdown",
      "metadata": {
        "id": "view-in-github",
        "colab_type": "text"
      },
      "source": [
        "<a href=\"https://colab.research.google.com/github/CristinaGHolgado/old-french-lemmatization/blob/master/train_tag_udpipe_old_french.ipynb\" target=\"_parent\"><img src=\"https://colab.research.google.com/assets/colab-badge.svg\" alt=\"Open In Colab\"/></a>"
      ]
    },
    {
      "cell_type": "code",
      "metadata": {
        "id": "JoH8P68KIS-O"
      },
      "source": [
        "%load_ext rpy2.ipython"
      ],
      "execution_count": null,
      "outputs": []
    },
    {
      "cell_type": "code",
      "metadata": {
        "colab": {
          "base_uri": "https://localhost:8080/"
        },
        "id": "w2Z2Z_u7ImeI",
        "outputId": "87065e05-dcd6-469a-841e-29b78859f807"
      },
      "source": [
        "%%R\n",
        "install.packages(\"udpipe\")"
      ],
      "execution_count": null,
      "outputs": [
        {
          "output_type": "stream",
          "name": "stderr",
          "text": [
            "R[write to console]: \n",
            "\n",
            "R[write to console]: \n",
            "R[write to console]: The downloaded source packages are in\n",
            "\t‘/tmp/RtmpsVOvkW/downloaded_packages’\n",
            "R[write to console]: \n",
            "R[write to console]: \n",
            "\n"
          ]
        }
      ]
    },
    {
      "cell_type": "code",
      "metadata": {
        "colab": {
          "base_uri": "https://localhost:8080/"
        },
        "id": "mJVVQ242JMTU",
        "outputId": "36d82aec-28f9-4d3b-9bde-4f2af63d070f"
      },
      "source": [
        "from google.colab import drive\n",
        "drive.mount('/content/gdrive')"
      ],
      "execution_count": null,
      "outputs": [
        {
          "output_type": "stream",
          "name": "stdout",
          "text": [
            "Mounted at /content/gdrive\n"
          ]
        }
      ]
    },
    {
      "cell_type": "code",
      "metadata": {
        "colab": {
          "base_uri": "https://localhost:8080/"
        },
        "id": "WwhtAgh6J_pV",
        "outputId": "742d51f4-aee1-42cb-9046-2a8878cdc130"
      },
      "source": [
        "import os\n",
        "os.chdir(\"gdrive/MyDrive/Lemmatisation AF\") # path to folders\n",
        "!ls"
      ],
      "execution_count": null,
      "outputs": [
        {
          "output_type": "stream",
          "name": "stdout",
          "text": [
            "TEST_1\t\t\t  TEST_3_tagged_cc_udpipe  TEST_6_udpipe_model\n",
            "TEST_10\t\t\t  TEST_3_udpipe_model\t   TEST_7\n",
            "TEST_10_tagged_cc_udpipe  TEST_4\t\t   TEST_7_tagged_cc_udpipe\n",
            "TEST_10_udpipe_model\t  TEST_4_tagged_cc_udpipe  TEST_7_udpipe_model\n",
            "TEST_1_tagged_cc_udpipe   TEST_4_udpipe_model\t   TEST_8\n",
            "TEST_1_udpipe_model\t  TEST_5\t\t   TEST_8_tagged_cc_udpipe\n",
            "TEST_2\t\t\t  TEST_5_tagged_cc_udpipe  TEST_8_udpipe_model\n",
            "TEST_2_tagged_cc_udpipe   TEST_5_udpipe_model\t   TEST_9\n",
            "TEST_2_udpipe_model\t  TEST_6\t\t   TEST_9_tagged_cc_udpipe\n",
            "TEST_3\t\t\t  TEST_6_tagged_cc_udpipe  TEST_9_udpipe_model\n"
          ]
        }
      ]
    },
    {
      "cell_type": "markdown",
      "metadata": {
        "id": "M1Dap4Ru8NlZ"
      },
      "source": [
        "## Run for training"
      ]
    },
    {
      "cell_type": "code",
      "metadata": {
        "colab": {
          "base_uri": "https://localhost:8080/"
        },
        "id": "uWlBsHoQK22Z",
        "outputId": "b0e557b6-0661-4df8-8273-6a6578bf4c07"
      },
      "source": [
        "import glob\n",
        "path_list = [os.path.join(dirpath,filename) for dirpath, _, filenames in os.walk('.') for filename in filenames if filename.endswith('UDPIPE_ca_final.conllu')]\n",
        "path_list"
      ],
      "execution_count": null,
      "outputs": [
        {
          "output_type": "execute_result",
          "data": {
            "text/plain": [
              "[]"
            ]
          },
          "metadata": {},
          "execution_count": 12
        }
      ]
    },
    {
      "cell_type": "code",
      "metadata": {
        "id": "upVidNF_Iky9"
      },
      "source": [
        "%%R\n",
        "library(udpipe)\n",
        "CA_files <- list.files(pattern = \"UDPIPE_ca_final.conllu$\", recursive = TRUE)\n",
        "\n",
        "params <- list()\n",
        "\n",
        "params$tagger <- list(models = 2, \n",
        "  templates_1 = \"tagger\", \n",
        "      guesser_suffix_rules_1 = 8, guesser_enrich_dictionary_1 = 6, \n",
        "      guesser_prefixes_max_1 = 0, \n",
        "      use_lemma_1 = 1, use_xpostag_1 = 1, use_feats_1 = 1, \n",
        "      provide_lemma_1 = 0, provide_xpostag_1 = 1, \n",
        "      provide_feats_1 = 1, prune_features_1 = 0, \n",
        "  templates_2 = \"lemmatizer\", \n",
        "      guesser_suffix_rules_2 = 2, guesser_enrich_dictionary_2 = 4, \n",
        "      guesser_prefixes_max_2 = 4, \n",
        "      use_lemma_2 = 1, use_xpostag_2 = 1, use_feats_2 = 1, \n",
        "      provide_lemma_2 = 1, provide_xpostag_2 = 0, \n",
        "      provide_feats_2 = 0, prune_features_2 = 0)\n",
        "\n",
        "train_annotate <- function(traindata) {\n",
        "    traindata <- traindata\n",
        "    modelname <- paste(strsplit(traindata, \"/\")[[1]][1],\"_udpipe_model\")\n",
        "    train <- udpipe_train(file = modelname, files_conllu_training = traindata, \n",
        "                          annotation_tokenizer = list(dimension = 24, epochs = 100, initialization_range = 0.1, batch_size = 100, learning_rate=0.005, dropout = 0.1, early_stopping = 1),\n",
        "                          annotation_tagger = params$tagger,\n",
        "                          annotation_parser = \"none\")\n",
        "}\n",
        "\n",
        "for(i in CA_files){train_annotate(i)}\n"
      ],
      "execution_count": null,
      "outputs": []
    },
    {
      "cell_type": "markdown",
      "metadata": {
        "id": "ESeBul0u8XXP"
      },
      "source": [
        "## Run for tagging"
      ]
    },
    {
      "cell_type": "code",
      "metadata": {
        "id": "ktAD603Hoyzh"
      },
      "source": [
        "%%R\n",
        "library(stringi)\n",
        "library(udpipe)\n",
        "ccontrole_files <- list.files(pattern = \"corpus_controle_final.csv$\", recursive = TRUE, full.names=TRUE)\n",
        "models_udpipe <- list.files(pattern = \"_udpipe_model\",recursive=TRUE, full.names=FALSE)\n",
        "\n",
        "d <- data.frame(cc = ccontrole_files, mod= models_udpipe)\n",
        "d$x <- paste(d$cc, \"--\", d$mod)\n",
        "d <- d$x\n",
        "\n",
        "tag_udpipe <- function(cc_file, model){\n",
        "    load_model <- udpipe_load_model(file = model)\n",
        "    corpuscontrole <- paste(readLines(cc_file))\n",
        "     annotated <- udpipe_annotate(load_model, x = corpuscontrole, tokenizer = \"vertical\", tagger = \"default\", parser = \"none\", trace = FALSE)\n",
        "     df <- as.data.frame(annotated)\n",
        "     outputname = gsub(\"[[:blank:]]\",\"\", paste(strsplit(model,\"_udpipe_model\")[[1]][1],\"_tagged_cc_udpipe\"))\n",
        "     write.table(df[6:10], outputname, sep='\\t', fileEncoding = \"UTF-8\", quote=FALSE,  col.names=FALSE, row.names=FALSE)\n",
        "}\n",
        "\n",
        "for(i in d){\n",
        "    cc = gsub(\"[[:blank:]]\",\"\", strsplit(i,\"--\")[[1]][1])\n",
        "    models = gsub(\"[[:blank:]]\",\"\", strsplit(i, \"--\")[[1]][2])\n",
        "    tag_udpipe(cc, models)\n",
        "}"
      ],
      "execution_count": null,
      "outputs": []
    }
  ]
}